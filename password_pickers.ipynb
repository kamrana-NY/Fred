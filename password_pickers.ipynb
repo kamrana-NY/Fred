{
  "nbformat": 4,
  "nbformat_minor": 0,
  "metadata": {
    "colab": {
      "name": "password pickers.ipynb",
      "provenance": [],
      "collapsed_sections": [],
      "authorship_tag": "ABX9TyP20xz8MRMwzqzUItOPP6Qe",
      "include_colab_link": true
    },
    "kernelspec": {
      "name": "python3",
      "display_name": "Python 3"
    }
  },
  "cells": [
    {
      "cell_type": "markdown",
      "metadata": {
        "id": "view-in-github",
        "colab_type": "text"
      },
      "source": [
        "<a href=\"https://colab.research.google.com/github/kamrana-NY/Fred/blob/master/password_pickers.ipynb\" target=\"_parent\"><img src=\"https://colab.research.google.com/assets/colab-badge.svg\" alt=\"Open In Colab\"/></a>"
      ]
    },
    {
      "cell_type": "code",
      "metadata": {
        "colab": {
          "base_uri": "https://localhost:8080/"
        },
        "id": "W3VKf1WOjGFB",
        "outputId": "ca7cfed5-7e8c-4b7e-fffd-544dccdce812"
      },
      "source": [
        "import random\n",
        "import string\n",
        "adjectives = ['celadon', 'cranberry', 'cream', 'serene', 'astute', 'kind', 'up', 'down', 'top', 'bottom', 'strange']\n",
        "nouns = ['dinosaur', 'cat', 'dog', 'ferret', 'sparrow', 'bear']\n",
        "\n",
        "print('Welcome to Password Picker!')\n",
        "adjective = random.choice(adjectives)\n",
        "noun = random.choice(nouns)\n",
        "number = random.randrange(0,100)\n",
        "special_char = random.choice(string.punctuation)\n",
        "password = adjective + noun + str(number) + special_char\n",
        "print('Your new password is : %s' % password)"
      ],
      "execution_count": null,
      "outputs": [
        {
          "output_type": "stream",
          "text": [
            "Welcome to Password Picker!\n",
            "Your new password is : bottombear82}\n"
          ],
          "name": "stdout"
        }
      ]
    },
    {
      "cell_type": "code",
      "metadata": {
        "colab": {
          "base_uri": "https://localhost:8080/"
        },
        "id": "hgzTbnSQ72D-",
        "outputId": "3474d865-4725-45b5-d1d3-b471a2f695d4"
      },
      "source": [
        "import random\n",
        "import string\n",
        "adjectives = ['loud', 'soft', 'fast', 'slow', 'harmony', 'pitch', 'melody', 'beat', 'rhythm', 'timber', 'tempo']\n",
        "nouns = ['Beatles', 'Police', 'Smithereens', 'Subdudes', 'Cake', 'Beck' 'Cream', 'Erasure', 'INXS', 'Lorde', 'Madonna', 'Nirvana', 'Queen', 'U2']\n",
        "\n",
        "print('Welcome to Password Picker!')\n",
        "adjective = random.choice(adjectives)\n",
        "noun = random.choice(nouns)\n",
        "number = random.randrange(1900,2000)\n",
        "special_char = random.choice(string.punctuation)\n",
        "password = adjective + noun + str(number) + special_char\n",
        "print('Your new password is : %s' % password)"
      ],
      "execution_count": null,
      "outputs": [
        {
          "output_type": "stream",
          "text": [
            "Welcome to Password Picker!\n",
            "Your new password is : beatSmithereens1960*\n"
          ],
          "name": "stdout"
        }
      ]
    },
    {
      "cell_type": "code",
      "metadata": {
        "colab": {
          "base_uri": "https://localhost:8080/"
        },
        "id": "LpSfZs5LKMzm",
        "outputId": "780eb187-b447-459e-832a-58e920968a6d"
      },
      "source": [
        "import random\n",
        "import string\n",
        "adjectives = ['celadon', 'cranberry', 'cream', 'serene', 'astute', 'kind', 'up', 'down', 'top', 'bottom', 'strange', 'sweet', 'salty', 'savory']\n",
        "colors = ['red', 'blue', 'green', 'yellow', 'white', 'black', 'green', 'brown', 'orange', 'gray', 'pink']\n",
        "nouns = ['cat', 'dog', 'horse', 'cow', 'duck', 'chicken', 'goose', 'deer', 'dinosaur', 'lion', 'tiger', 'wolf', 'ferret', 'sparrow', 'bear', 'oak', 'maple', 'pine', 'willow']\n",
        "\n",
        "print('Welcome to Password Picker!')\n",
        "while True:\n",
        "  for num in range(3):\n",
        "    adjective = random.choice(adjectives)\n",
        "    noun = random.choice(nouns)\n",
        "    color = random.choice(colors)\n",
        "    number = random.randrange(0,100)\n",
        "    special_char = random.choice(string.punctuation)\n",
        "    password = adjective + noun + color + str(number) + special_char\n",
        "    print('Your new password is : %s' % password)\n",
        "  response = input('Would you like another password? Type y or n:')\n",
        "  if response == 'n':\n",
        "    break"
      ],
      "execution_count": null,
      "outputs": [
        {
          "output_type": "stream",
          "text": [
            "Welcome to Password Picker!\n",
            "Your new password is : strangecatblue54^\n",
            "Your new password is : kindoakblack36?\n",
            "Your new password is : sweetcatbrown99!\n",
            "Would you like another password? Type y or n:n\n"
          ],
          "name": "stdout"
        }
      ]
    }
  ]
}