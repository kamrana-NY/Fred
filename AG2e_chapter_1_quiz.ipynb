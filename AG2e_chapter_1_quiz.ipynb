{
  "nbformat": 4,
  "nbformat_minor": 0,
  "metadata": {
    "colab": {
      "name": "AG2e chapter 1 quiz.ipynb",
      "provenance": [],
      "collapsed_sections": [],
      "authorship_tag": "ABX9TyPDNtY8gn6xyQkUkIAdkDvw",
      "include_colab_link": true
    },
    "kernelspec": {
      "name": "python3",
      "display_name": "Python 3"
    }
  },
  "cells": [
    {
      "cell_type": "markdown",
      "metadata": {
        "id": "view-in-github",
        "colab_type": "text"
      },
      "source": [
        "<a href=\"https://colab.research.google.com/github/kamrana-NY/Fred/blob/master/AG2e_chapter_1_quiz.ipynb\" target=\"_parent\"><img src=\"https://colab.research.google.com/assets/colab-badge.svg\" alt=\"Open In Colab\"/></a>"
      ]
    },
    {
      "cell_type": "markdown",
      "metadata": {
        "id": "Q55rwnEkyz5p"
      },
      "source": [
        "Beginning of quiz on chapter one of *American Government 2e* from OpenStax."
      ]
    },
    {
      "cell_type": "code",
      "metadata": {
        "id": "eXhglbSl3wm7",
        "colab": {
          "base_uri": "https://localhost:8080/",
          "height": 493
        },
        "outputId": "45f83045-70b4-403b-c1cd-4fc3ccba543c"
      },
      "source": [
        "print(\"Quiz on chapter one!\")\n",
        "score = 0\n",
        "# first question\n",
        "guess1 = input(\"In which form of government does a small group of elite people hold political power? \\n \\\n",
        "A) oligarchy \\n B) monarchy \\n C) direct democracy \\n D) totalitarian \\n \\\n",
        "Type A, B, C, or D \\n\")\n",
        "def check_guess(guess, answer):\n",
        "  global score\n",
        "  still_guessing = True\n",
        "  attempt = 0\n",
        "  while still_guessing and attempt < 3:\n",
        "    if guess.lower() == answer.lower():\n",
        "      print(\"correct answer\")\n",
        "      score = score + 1\n",
        "      still_guessing = False\n",
        "    else:\n",
        "        if attempt < 2:\n",
        "          guess = input(\"Sorry, wrong answer. Try again.\")\n",
        "        attempt = attempt + 1\n",
        "  if attempt == 3:\n",
        "    print(\"The correct answer is \" + answer)\n",
        "check_guess(guess1, \"A\")\n",
        "\n",
        "# second question\n",
        "guess2 = input(\"According to the pluralist theory of government, ________. \\n \\\n",
        "A) government does what the majority of voters want it to do \\n \\\n",
        "B) government policy is formed as a result of the competition between groups with different goals and interests \\n \\\n",
        "C) ordinary people acting on their own have a significant influence on government  \\n \\\n",
        "D) wealthy people decide what government policy will be, and politicians have no interest in pleasing anyone else \\n\")\n",
        "check_guess(guess2, \"B\")\n",
        "\n",
        "# third question\n",
        "guess3 = input(\"When a person is asked a question about a political issue that he or she has little interest in \\n \\\n",
        "and has not thought much about, that person’s answer will likely reflect ________. \\n \\\n",
        "A) ideology \\n B) partisanship \\n C) intense preferences \\n D) latent preferences \\n\")\n",
        "check_guess(guess3, \"D\")\n",
        "\n",
        "# fourth question\n",
        "guess4 = input(\"Political and civic engagement is most common among older people. True or False? \\n\")\n",
        "check_guess(guess4, \"True\")\n",
        "\n",
        "# print total score for all questions\n",
        "print(\"Your score is \" + str(score))\n"
      ],
      "execution_count": null,
      "outputs": [
        {
          "output_type": "stream",
          "text": [
            "Quiz on chapter one!\n",
            "In which form of government does a small group of elite people hold political power? \n",
            " A) oligarchy \n",
            " B) monarchy \n",
            " C) direct democracy \n",
            " D) totalitarian \n",
            " Type A, B, C, or D \n",
            "A\n",
            "correct answer\n",
            "According to the pluralist theory of government, ________. \n",
            " A) government does what the majority of voters want it to do \n",
            " B) government policy is formed as a result of the competition between groups with different goals and interests \n",
            " C) ordinary people acting on their own have a significant influence on government  \n",
            " D) wealthy people decide what government policy will be, and politicians have no interest in pleasing anyone else \n",
            "B\n",
            "correct answer\n",
            "When a person is asked a question about a political issue that he or she has little interest in \n",
            " and has not thought much about, that person’s answer will likely reflect ________. \n",
            " A) ideology \n",
            " B) partisanship \n",
            " C) intense preferences \n",
            " D) latent preferences \n",
            "D\n",
            "correct answer\n",
            "Political and civic engagement is most common among older people. True or False? \n",
            "True\n",
            "correct answer\n",
            "Your score is 4\n"
          ],
          "name": "stdout"
        }
      ]
    }
  ]
}